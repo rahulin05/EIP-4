{
  "nbformat": 4,
  "nbformat_minor": 0,
  "metadata": {
    "colab": {
      "name": "Asssignment_5_EIP.ipynb",
      "provenance": [],
      "include_colab_link": true
    },
    "kernelspec": {
      "name": "python3",
      "display_name": "Python 3"
    }
  },
  "cells": [
    {
      "cell_type": "markdown",
      "metadata": {
        "id": "view-in-github",
        "colab_type": "text"
      },
      "source": [
        "<a href=\"https://colab.research.google.com/github/rahulin05/EIP-4/blob/master/Week-5/Asssignment_5_EIP.ipynb\" target=\"_parent\"><img src=\"https://colab.research.google.com/assets/colab-badge.svg\" alt=\"Open In Colab\"/></a>"
      ]
    },
    {
      "cell_type": "code",
      "metadata": {
        "id": "3FrLoXYngmRI",
        "colab_type": "code",
        "colab": {
          "base_uri": "https://localhost:8080/",
          "height": 121
        },
        "outputId": "f459eeea-fb28-4e73-e81d-26634f5d5252"
      },
      "source": [
        "# mount gdrive and unzip data\n",
        "from google.colab import drive\n",
        "drive.mount('/content/gdrive')"
      ],
      "execution_count": 1,
      "outputs": [
        {
          "output_type": "stream",
          "text": [
            "Go to this URL in a browser: https://accounts.google.com/o/oauth2/auth?client_id=947318989803-6bn6qk8qdgf4n4g3pfee6491hc0brc4i.apps.googleusercontent.com&redirect_uri=urn%3aietf%3awg%3aoauth%3a2.0%3aoob&response_type=code&scope=email%20https%3a%2f%2fwww.googleapis.com%2fauth%2fdocs.test%20https%3a%2f%2fwww.googleapis.com%2fauth%2fdrive%20https%3a%2f%2fwww.googleapis.com%2fauth%2fdrive.photos.readonly%20https%3a%2f%2fwww.googleapis.com%2fauth%2fpeopleapi.readonly\n",
            "\n",
            "Enter your authorization code:\n",
            "··········\n",
            "Mounted at /content/gdrive\n"
          ],
          "name": "stdout"
        }
      ]
    },
    {
      "cell_type": "code",
      "metadata": {
        "id": "JmmS_aF3gwfo",
        "colab_type": "code",
        "colab": {
          "base_uri": "https://localhost:8080/",
          "height": 34
        },
        "outputId": "b3545591-0590-4b5b-b41c-4ecce8aa5830"
      },
      "source": [
        "import os\n",
        "os.listdir(\".\")"
      ],
      "execution_count": 2,
      "outputs": [
        {
          "output_type": "execute_result",
          "data": {
            "text/plain": [
              "['.config', 'gdrive', 'sample_data']"
            ]
          },
          "metadata": {
            "tags": []
          },
          "execution_count": 2
        }
      ]
    },
    {
      "cell_type": "code",
      "metadata": {
        "id": "OvuU9_rTg0k8",
        "colab_type": "code",
        "colab": {
          "base_uri": "https://localhost:8080/",
          "height": 34
        },
        "outputId": "fa8d4de3-3fa5-4115-a8bf-f8a2f0505f2e"
      },
      "source": [
        "!unzip -q \"/content/gdrive/My Drive/hvc_data.zip\"\n",
        "# look for `hvc_annotations.csv` file and `resized` dir\n",
        "%ls"
      ],
      "execution_count": 4,
      "outputs": [
        {
          "output_type": "stream",
          "text": [
            "\u001b[0m\u001b[01;34mgdrive\u001b[0m/  hvc_annotations.csv  \u001b[01;34mresized\u001b[0m/  \u001b[01;34msample_data\u001b[0m/\n"
          ],
          "name": "stdout"
        }
      ]
    },
    {
      "cell_type": "code",
      "metadata": {
        "id": "lEp9nlQohLBf",
        "colab_type": "code",
        "colab": {}
      },
      "source": [
        "!pip install --upgrade --upgrade-strategy only-if-needed https://github.com/faizanahemad/data-science-utils/tarball/master > /dev/null"
      ],
      "execution_count": 0,
      "outputs": []
    },
    {
      "cell_type": "code",
      "metadata": {
        "id": "J9GVE2SLhfDh",
        "colab_type": "code",
        "colab": {
          "base_uri": "https://localhost:8080/",
          "height": 319
        },
        "outputId": "4fe372e2-f564-41c8-b342-49168ce5857f"
      },
      "source": [
        "!pip install git+https://www.github.com/keras-team/keras-contrib.git\n"
      ],
      "execution_count": 6,
      "outputs": [
        {
          "output_type": "stream",
          "text": [
            "Collecting git+https://www.github.com/keras-team/keras-contrib.git\n",
            "  Cloning https://www.github.com/keras-team/keras-contrib.git to /tmp/pip-req-build-c_8qbdmk\n",
            "  Running command git clone -q https://www.github.com/keras-team/keras-contrib.git /tmp/pip-req-build-c_8qbdmk\n",
            "Requirement already satisfied: keras in /usr/local/lib/python3.6/dist-packages (from keras-contrib==2.0.8) (2.2.5)\n",
            "Requirement already satisfied: six>=1.9.0 in /usr/local/lib/python3.6/dist-packages (from keras->keras-contrib==2.0.8) (1.12.0)\n",
            "Requirement already satisfied: pyyaml in /usr/local/lib/python3.6/dist-packages (from keras->keras-contrib==2.0.8) (3.13)\n",
            "Requirement already satisfied: h5py in /usr/local/lib/python3.6/dist-packages (from keras->keras-contrib==2.0.8) (2.8.0)\n",
            "Requirement already satisfied: scipy>=0.14 in /usr/local/lib/python3.6/dist-packages (from keras->keras-contrib==2.0.8) (1.3.3)\n",
            "Requirement already satisfied: numpy>=1.9.1 in /usr/local/lib/python3.6/dist-packages (from keras->keras-contrib==2.0.8) (1.17.4)\n",
            "Requirement already satisfied: keras-applications>=1.0.8 in /usr/local/lib/python3.6/dist-packages (from keras->keras-contrib==2.0.8) (1.0.8)\n",
            "Requirement already satisfied: keras-preprocessing>=1.1.0 in /usr/local/lib/python3.6/dist-packages (from keras->keras-contrib==2.0.8) (1.1.0)\n",
            "Building wheels for collected packages: keras-contrib\n",
            "  Building wheel for keras-contrib (setup.py) ... \u001b[?25l\u001b[?25hdone\n",
            "  Created wheel for keras-contrib: filename=keras_contrib-2.0.8-cp36-none-any.whl size=101065 sha256=95a04d713709a9cd66f1d5eb44b8a0de9cdc6c9523c6b1f28a12391218846cfd\n",
            "  Stored in directory: /tmp/pip-ephem-wheel-cache-2_hnrhms/wheels/11/27/c8/4ed56de7b55f4f61244e2dc6ef3cdbaff2692527a2ce6502ba\n",
            "Successfully built keras-contrib\n",
            "Installing collected packages: keras-contrib\n",
            "Successfully installed keras-contrib-2.0.8\n"
          ],
          "name": "stdout"
        }
      ]
    },
    {
      "cell_type": "code",
      "metadata": {
        "id": "7T6_9gH8hkFi",
        "colab_type": "code",
        "colab": {
          "base_uri": "https://localhost:8080/",
          "height": 79
        },
        "outputId": "f6f9f38d-098e-47c0-c091-ab645cd280e4"
      },
      "source": [
        "import cv2\n",
        "import json\n",
        "import tensorflow as tf\n",
        "import os\n",
        "import shutil\n",
        "\n",
        "import numpy as np\n",
        "import pandas as pd\n",
        "\n",
        "from functools import partial\n",
        "from pathlib import Path \n",
        "from tqdm import tqdm\n",
        "from google.colab.patches import cv2_imshow\n",
        "\n",
        "from sklearn.model_selection import train_test_split\n",
        "from sklearn.preprocessing import LabelEncoder, OneHotEncoder\n",
        "\n",
        "import keras\n",
        "from keras import backend as K\n",
        "from keras.applications import VGG16\n",
        "from keras.layers.core import Dropout\n",
        "from keras.layers.core import Flatten\n",
        "from keras.layers.core import Dense\n",
        "from keras.layers import Input, Conv2D, MaxPool2D\n",
        "from keras.layers import AveragePooling2D, Input, Flatten, Activation, Flatten, Dropout, SeparableConv2D, GlobalAveragePooling2D\n",
        "from keras.callbacks import ModelCheckpoint, LearningRateScheduler\n",
        "from keras.callbacks import ReduceLROnPlateau\n",
        "from keras.layers.normalization import BatchNormalization\n",
        "from keras.models import Model\n",
        "from keras.optimizers import SGD\n",
        "from keras.preprocessing.image import ImageDataGenerator\n",
        "\n",
        "from keras.regularizers import l2\n",
        "\n",
        "\n",
        "from albumentations import (\n",
        "    Compose, HorizontalFlip, ToFloat, ShiftScaleRotate,\n",
        "    Normalize, Rotate, Cutout\n",
        ")"
      ],
      "execution_count": 7,
      "outputs": [
        {
          "output_type": "display_data",
          "data": {
            "text/html": [
              "<p style=\"color: red;\">\n",
              "The default version of TensorFlow in Colab will soon switch to TensorFlow 2.x.<br>\n",
              "We recommend you <a href=\"https://www.tensorflow.org/guide/migrate\" target=\"_blank\">upgrade</a> now \n",
              "or ensure your notebook will continue to use TensorFlow 1.x via the <code>%tensorflow_version 1.x</code> magic:\n",
              "<a href=\"https://colab.research.google.com/notebooks/tensorflow_version.ipynb\" target=\"_blank\">more info</a>.</p>\n"
            ],
            "text/plain": [
              "<IPython.core.display.HTML object>"
            ]
          },
          "metadata": {
            "tags": []
          }
        },
        {
          "output_type": "stream",
          "text": [
            "Using TensorFlow backend.\n"
          ],
          "name": "stderr"
        }
      ]
    },
    {
      "cell_type": "code",
      "metadata": {
        "id": "PfnSoNfOhvmW",
        "colab_type": "code",
        "colab": {
          "base_uri": "https://localhost:8080/",
          "height": 195
        },
        "outputId": "751abe57-b890-43e1-c396-4943da5c36ef"
      },
      "source": [
        "# load annotations\n",
        "df = pd.read_csv(\"hvc_annotations.csv\")\n",
        "del df[\"filename\"] # remove unwanted column\n",
        "df.head()"
      ],
      "execution_count": 8,
      "outputs": [
        {
          "output_type": "execute_result",
          "data": {
            "text/html": [
              "<div>\n",
              "<style scoped>\n",
              "    .dataframe tbody tr th:only-of-type {\n",
              "        vertical-align: middle;\n",
              "    }\n",
              "\n",
              "    .dataframe tbody tr th {\n",
              "        vertical-align: top;\n",
              "    }\n",
              "\n",
              "    .dataframe thead th {\n",
              "        text-align: right;\n",
              "    }\n",
              "</style>\n",
              "<table border=\"1\" class=\"dataframe\">\n",
              "  <thead>\n",
              "    <tr style=\"text-align: right;\">\n",
              "      <th></th>\n",
              "      <th>gender</th>\n",
              "      <th>imagequality</th>\n",
              "      <th>age</th>\n",
              "      <th>weight</th>\n",
              "      <th>carryingbag</th>\n",
              "      <th>footwear</th>\n",
              "      <th>emotion</th>\n",
              "      <th>bodypose</th>\n",
              "      <th>image_path</th>\n",
              "    </tr>\n",
              "  </thead>\n",
              "  <tbody>\n",
              "    <tr>\n",
              "      <th>0</th>\n",
              "      <td>male</td>\n",
              "      <td>Average</td>\n",
              "      <td>35-45</td>\n",
              "      <td>normal-healthy</td>\n",
              "      <td>Grocery/Home/Plastic Bag</td>\n",
              "      <td>Normal</td>\n",
              "      <td>Neutral</td>\n",
              "      <td>Front-Frontish</td>\n",
              "      <td>resized/1.jpg</td>\n",
              "    </tr>\n",
              "    <tr>\n",
              "      <th>1</th>\n",
              "      <td>female</td>\n",
              "      <td>Average</td>\n",
              "      <td>35-45</td>\n",
              "      <td>over-weight</td>\n",
              "      <td>None</td>\n",
              "      <td>Normal</td>\n",
              "      <td>Angry/Serious</td>\n",
              "      <td>Front-Frontish</td>\n",
              "      <td>resized/2.jpg</td>\n",
              "    </tr>\n",
              "    <tr>\n",
              "      <th>2</th>\n",
              "      <td>male</td>\n",
              "      <td>Good</td>\n",
              "      <td>45-55</td>\n",
              "      <td>normal-healthy</td>\n",
              "      <td>Grocery/Home/Plastic Bag</td>\n",
              "      <td>CantSee</td>\n",
              "      <td>Neutral</td>\n",
              "      <td>Front-Frontish</td>\n",
              "      <td>resized/3.jpg</td>\n",
              "    </tr>\n",
              "    <tr>\n",
              "      <th>3</th>\n",
              "      <td>male</td>\n",
              "      <td>Good</td>\n",
              "      <td>45-55</td>\n",
              "      <td>normal-healthy</td>\n",
              "      <td>Daily/Office/Work Bag</td>\n",
              "      <td>Normal</td>\n",
              "      <td>Neutral</td>\n",
              "      <td>Front-Frontish</td>\n",
              "      <td>resized/4.jpg</td>\n",
              "    </tr>\n",
              "    <tr>\n",
              "      <th>4</th>\n",
              "      <td>female</td>\n",
              "      <td>Good</td>\n",
              "      <td>35-45</td>\n",
              "      <td>slightly-overweight</td>\n",
              "      <td>None</td>\n",
              "      <td>CantSee</td>\n",
              "      <td>Neutral</td>\n",
              "      <td>Front-Frontish</td>\n",
              "      <td>resized/5.jpg</td>\n",
              "    </tr>\n",
              "  </tbody>\n",
              "</table>\n",
              "</div>"
            ],
            "text/plain": [
              "   gender imagequality    age  ...        emotion        bodypose     image_path\n",
              "0    male      Average  35-45  ...        Neutral  Front-Frontish  resized/1.jpg\n",
              "1  female      Average  35-45  ...  Angry/Serious  Front-Frontish  resized/2.jpg\n",
              "2    male         Good  45-55  ...        Neutral  Front-Frontish  resized/3.jpg\n",
              "3    male         Good  45-55  ...        Neutral  Front-Frontish  resized/4.jpg\n",
              "4  female         Good  35-45  ...        Neutral  Front-Frontish  resized/5.jpg\n",
              "\n",
              "[5 rows x 9 columns]"
            ]
          },
          "metadata": {
            "tags": []
          },
          "execution_count": 8
        }
      ]
    },
    {
      "cell_type": "code",
      "metadata": {
        "id": "hm3U2slUh23x",
        "colab_type": "code",
        "colab": {
          "base_uri": "https://localhost:8080/",
          "height": 1000
        },
        "outputId": "c9c81c79-66ff-4a5b-db64-dbc45cfd73b8"
      },
      "source": [
        "print(df.groupby(\"gender\")[\"gender\"].count())\n",
        "print(\"Baseline gender accuracy: \"+str(max(df.groupby(\"gender\")[\"gender\"].count())/sum(df.groupby(\"gender\")[\"gender\"].count())))\n",
        "print(\"\\n\")\n",
        "\n",
        "print(df.groupby(\"imagequality\")[\"imagequality\"].count())\n",
        "print(\"Baseline imagequality accuracy: \"+str(max(df.groupby(\"imagequality\")[\"imagequality\"].count())/sum(df.groupby(\"imagequality\")[\"imagequality\"].count())))\n",
        "print(\"\\n\")\n",
        "\n",
        "print(df.groupby(\"age\")[\"age\"].count())\n",
        "print(\"Baseline age accuracy: \"+str(max(df.groupby(\"age\")[\"age\"].count())/sum(df.groupby(\"age\")[\"age\"].count())))\n",
        "print(\"\\n\")\n",
        "\n",
        "print(df.groupby(\"weight\")[\"weight\"].count())\n",
        "print(\"Baseline weight accuracy: \"+str(max(df.groupby(\"weight\")[\"weight\"].count())/sum(df.groupby(\"weight\")[\"weight\"].count())))\n",
        "print(\"\\n\")\n",
        "\n",
        "print(df.groupby(\"carryingbag\")[\"carryingbag\"].count())\n",
        "print(\"Baseline carryingbag accuracy: \"+str(max(df.groupby(\"carryingbag\")[\"carryingbag\"].count())/sum(df.groupby(\"carryingbag\")[\"carryingbag\"].count())))\n",
        "print(\"\\n\")\n",
        "\n",
        "print(df.groupby(\"footwear\")[\"footwear\"].count())\n",
        "print(\"Baseline footwear accuracy: \"+str(max(df.groupby(\"footwear\")[\"footwear\"].count())/sum(df.groupby(\"footwear\")[\"footwear\"].count())))\n",
        "print(\"\\n\")\n",
        "\n",
        "print(df.groupby(\"emotion\")[\"emotion\"].count())\n",
        "print(\"Baseline emotion accuracy: \"+str(max(df.groupby(\"emotion\")[\"emotion\"].count())/sum(df.groupby(\"emotion\")[\"emotion\"].count())))\n",
        "print(\"\\n\")\n",
        "\n",
        "print(df.groupby(\"bodypose\")[\"bodypose\"].count())\n",
        "print(\"Baseline bodypose accuracy: \"+str(max(df.groupby(\"bodypose\")[\"bodypose\"].count())/sum(df.groupby(\"bodypose\")[\"bodypose\"].count())))\n",
        "print(\"\\n\")"
      ],
      "execution_count": 9,
      "outputs": [
        {
          "output_type": "stream",
          "text": [
            "gender\n",
            "female    5937\n",
            "male      7636\n",
            "Name: gender, dtype: int64\n",
            "Baseline gender accuracy: 0.5625874898695941\n",
            "\n",
            "\n",
            "imagequality\n",
            "Average    7509\n",
            "Bad        2240\n",
            "Good       3824\n",
            "Name: imagequality, dtype: int64\n",
            "Baseline imagequality accuracy: 0.5532306785530097\n",
            "\n",
            "\n",
            "age\n",
            "15-25    2494\n",
            "25-35    5411\n",
            "35-45    3435\n",
            "45-55    1490\n",
            "55+       743\n",
            "Name: age, dtype: int64\n",
            "Baseline age accuracy: 0.39865910263022175\n",
            "\n",
            "\n",
            "weight\n",
            "normal-healthy         8628\n",
            "over-weight             891\n",
            "slightly-overweight    3196\n",
            "underweight             858\n",
            "Name: weight, dtype: int64\n",
            "Baseline weight accuracy: 0.6356737640904737\n",
            "\n",
            "\n",
            "carryingbag\n",
            "Daily/Office/Work Bag       4603\n",
            "Grocery/Home/Plastic Bag    1321\n",
            "None                        7649\n",
            "Name: carryingbag, dtype: int64\n",
            "Baseline carryingbag accuracy: 0.56354527370515\n",
            "\n",
            "\n",
            "footwear\n",
            "CantSee    5028\n",
            "Fancy      2507\n",
            "Normal     6038\n",
            "Name: footwear, dtype: int64\n",
            "Baseline footwear accuracy: 0.4448537537758786\n",
            "\n",
            "\n",
            "emotion\n",
            "Angry/Serious    1500\n",
            "Happy            1609\n",
            "Neutral          9660\n",
            "Sad               804\n",
            "Name: emotion, dtype: int64\n",
            "Baseline emotion accuracy: 0.7117070654976793\n",
            "\n",
            "\n",
            "bodypose\n",
            "Back              2207\n",
            "Front-Frontish    8383\n",
            "Side              2983\n",
            "Name: bodypose, dtype: int64\n",
            "Baseline bodypose accuracy: 0.6176232225742282\n",
            "\n",
            "\n"
          ],
          "name": "stdout"
        }
      ]
    },
    {
      "cell_type": "code",
      "metadata": {
        "id": "oWoHc3PwiC-V",
        "colab_type": "code",
        "colab": {}
      },
      "source": [
        "# one hot encoding of labels\n",
        "\n",
        "one_hot_df = pd.concat([\n",
        "    df[[\"image_path\"]],\n",
        "    pd.get_dummies(df.gender, prefix=\"gender\"),\n",
        "    pd.get_dummies(df.imagequality, prefix=\"imagequality\"),\n",
        "    pd.get_dummies(df.age, prefix=\"age\"),\n",
        "    pd.get_dummies(df.weight, prefix=\"weight\"),\n",
        "    pd.get_dummies(df.carryingbag, prefix=\"carryingbag\"),\n",
        "    pd.get_dummies(df.footwear, prefix=\"footwear\"),\n",
        "    pd.get_dummies(df.emotion, prefix=\"emotion\"),\n",
        "    pd.get_dummies(df.bodypose, prefix=\"bodypose\")\n",
        "    ], axis = 1)"
      ],
      "execution_count": 0,
      "outputs": []
    },
    {
      "cell_type": "code",
      "metadata": {
        "id": "wQMpteGniJ7Z",
        "colab_type": "code",
        "colab": {}
      },
      "source": [
        "_gender_cols_ = [col for col in one_hot_df.columns if col.startswith(\"gender\")]\n",
        "_imagequality_cols_ = [col for col in one_hot_df.columns if col.startswith(\"imagequality\")]\n",
        "_age_cols_ = [col for col in one_hot_df.columns if col.startswith(\"age\")]\n",
        "_weight_cols_ = [col for col in one_hot_df.columns if col.startswith(\"weight\")]\n",
        "_carryingbag_cols_ = [col for col in one_hot_df.columns if col.startswith(\"carryingbag\")]\n",
        "_footwear_cols_ = [col for col in one_hot_df.columns if col.startswith(\"footwear\")]\n",
        "_emotion_cols_ = [col for col in one_hot_df.columns if col.startswith(\"emotion\")]\n",
        "_bodypose_cols_ = [col for col in one_hot_df.columns if col.startswith(\"bodypose\")]"
      ],
      "execution_count": 0,
      "outputs": []
    },
    {
      "cell_type": "code",
      "metadata": {
        "id": "SUVymgu5iPB6",
        "colab_type": "code",
        "colab": {}
      },
      "source": [
        "class PersonImageDataGenerator(keras.utils.Sequence):\n",
        "\n",
        "  def __init__(self, data_df, image_size=(224, 224, 3), batch_size=32, shuffle=True, augment=None):\n",
        "    self.data_df = data_df\n",
        "    self.indices = data_df.index.tolist()\n",
        "    self.output_size = image_size\n",
        "    self.batch_size = batch_size\n",
        "    self.shuffle = shuffle\n",
        "    self.augment = augment\n",
        "    self.on_epoch_end()\n",
        "\n",
        "  def __len__(self):\n",
        "    # return number of batches (truncated)\n",
        "    return int(np.floor(len(self.data_df)/self.batch_size))\n",
        "\n",
        "  def __getitem__(self, idx):\n",
        "    batch_df = self.data_df.iloc[idx*self.batch_size:(idx+1)*self.batch_size, :].copy()\n",
        "    indices = batch_df.index.tolist()\n",
        "    images = np.stack([cv2.resize(cv2.imread(batch_df.loc[rownum, \"image_path\"]), (self.output_size[0], self.output_size[1])) for rownum in indices])\n",
        "    _gender_cols_ = [col for col in batch_df.columns if col.startswith(\"gender\")]\n",
        "    target = {\n",
        "            \"gender_output\": batch_df[_gender_cols_].values,\n",
        "            \"image_quality_output\": batch_df[_imagequality_cols_].values,\n",
        "            \"age_output\": batch_df[_age_cols_].values,\n",
        "            \"weight_output\": batch_df[_weight_cols_].values,\n",
        "            \"bag_output\": batch_df[_carryingbag_cols_].values,\n",
        "            \"pose_output\": batch_df[_bodypose_cols_].values,\n",
        "            \"footwear_output\": batch_df[_footwear_cols_].values,\n",
        "            \"emotion_output\": batch_df[_emotion_cols_].values\n",
        "        }\n",
        "    if self.augment==None:\n",
        "      return images, target\n",
        "    else:\n",
        "      return np.stack([self.augment(image=x)[\"image\"] for x in images], axis=0), target\n",
        "\n",
        "  def on_epoch_end(self):\n",
        "    # shuffle dataset at the end of every epoch\n",
        "    if self.shuffle==True:\n",
        "      self.data_df = self.data_df.sample(frac=1).reset_index(drop=True)\n",
        "    else:\n",
        "      self.data_df = self.data_df.reset_index(drop=True)"
      ],
      "execution_count": 0,
      "outputs": []
    },
    {
      "cell_type": "code",
      "metadata": {
        "id": "yclr6GDriu53",
        "colab_type": "code",
        "colab": {}
      },
      "source": [
        "# callbacks\n",
        "\n",
        "class CyclicLR(keras.callbacks.Callback):\n",
        "    \n",
        "    def __init__(self,base_lr, max_lr, step_size, base_m, max_m, cyclical_momentum):\n",
        " \n",
        "        self.base_lr = base_lr\n",
        "        self.max_lr = max_lr\n",
        "        self.base_m = base_m\n",
        "        self.max_m = max_m\n",
        "        self.cyclical_momentum = cyclical_momentum\n",
        "        self.step_size = step_size\n",
        "        \n",
        "        self.clr_iterations = 0.\n",
        "        self.cm_iterations = 0.\n",
        "        self.trn_iterations = 0.\n",
        "        self.history = {}\n",
        "        # self.on_epoch_end()\n",
        "        \n",
        "    def clr(self):\n",
        "        \n",
        "        cycle = np.floor(1+self.clr_iterations/(2*self.step_size))\n",
        "        \n",
        "        if cycle == 2:\n",
        "            x = np.abs(self.clr_iterations/self.step_size - 2*cycle + 1)          \n",
        "            return self.base_lr-(self.base_lr-self.base_lr/100)*np.maximum(0,(1-x))\n",
        "        \n",
        "        else:\n",
        "            x = np.abs(self.clr_iterations/self.step_size - 2*cycle + 1)\n",
        "            return self.base_lr + (self.max_lr-self.base_lr)*np.maximum(0,(1-x))\n",
        "    \n",
        "    def cm(self):\n",
        "        \n",
        "        cycle = np.floor(1+self.clr_iterations/(2*self.step_size))\n",
        "        \n",
        "        if cycle == 2:\n",
        "            \n",
        "            x = np.abs(self.clr_iterations/self.step_size - 2*cycle + 1) \n",
        "            return self.max_m\n",
        "        \n",
        "        else:\n",
        "            x = np.abs(self.clr_iterations/self.step_size - 2*cycle + 1)\n",
        "            return self.max_m - (self.max_m-self.base_m)*np.maximum(0,(1-x))\n",
        "    def on_train_begin(self, logs={}):\n",
        "        logs = logs or {}\n",
        "\n",
        "        if self.clr_iterations == 0:\n",
        "            K.set_value(self.model.optimizer.lr, self.base_lr)\n",
        "        else:\n",
        "            K.set_value(self.model.optimizer.lr, self.clr())\n",
        "            \n",
        "        if self.cyclical_momentum == True:\n",
        "            if self.clr_iterations == 0:\n",
        "                K.set_value(self.model.optimizer.momentum, self.cm())\n",
        "            else:\n",
        "                K.set_value(self.model.optimizer.momentum, self.cm())\n",
        "            \n",
        "\n",
        "    def on_batch_begin(self, batch, logs=None):\n",
        "        \n",
        "        logs = logs or {}\n",
        "        self.trn_iterations += 1\n",
        "        self.clr_iterations += 1\n",
        "\n",
        "        self.history.setdefault('lr', []).append(K.get_value(self.model.optimizer.lr))\n",
        "        self.history.setdefault('iterations', []).append(self.trn_iterations)\n",
        "        \n",
        "        if self.cyclical_momentum == True:\n",
        "            self.history.setdefault('momentum', []).append(K.get_value(self.model.optimizer.momentum))\n",
        "\n",
        "        for k, v in logs.items():\n",
        "            self.history.setdefault(k, []).append(v)\n",
        "        \n",
        "        K.set_value(self.model.optimizer.lr, self.clr())\n",
        "        \n",
        "        if self.cyclical_momentum == True:\n",
        "            K.set_value(self.model.optimizer.momentum, self.cm())\n",
        "\n",
        "\n",
        "# print LR\n",
        "class printLR(keras.callbacks.Callback):\n",
        "    def on_epoch_end(self, epoch, logs=None):\n",
        "        lr = self.model.optimizer.lr\n",
        "        print(K.eval(lr))\n",
        "        "
      ],
      "execution_count": 0,
      "outputs": []
    },
    {
      "cell_type": "code",
      "metadata": {
        "id": "y3r6P7VsjYZ5",
        "colab_type": "code",
        "colab": {}
      },
      "source": [
        "\n",
        "def resnet_layer(inputs,\n",
        "                 num_filters=16,\n",
        "                 kernel_size=3,\n",
        "                 strides=1,\n",
        "                 activation='relu',\n",
        "                 batch_normalization=True,\n",
        "                 conv_first=True):\n",
        "    \"\"\"2D Convolution-Batch Normalization-Activation stack builder\n",
        "\n",
        "    # Arguments\n",
        "        inputs (tensor): input tensor from input image or previous layer\n",
        "        num_filters (int): Conv2D number of filters\n",
        "        kernel_size (int): Conv2D square kernel dimensions\n",
        "        strides (int): Conv2D square stride dimensions\n",
        "        activation (string): activation name\n",
        "        batch_normalization (bool): whether to include batch normalization\n",
        "        conv_first (bool): conv-bn-activation (True) or\n",
        "            bn-activation-conv (False)\n",
        "\n",
        "    # Returns\n",
        "        x (tensor): tensor as input to the next layer\n",
        "    \"\"\"\n",
        "    conv = Conv2D(num_filters,\n",
        "                  kernel_size=kernel_size,\n",
        "                  strides=strides,\n",
        "                  padding='same',\n",
        "                  kernel_initializer='he_normal',\n",
        "                  kernel_regularizer=l2(1e-4))\n",
        "    x = inputs\n",
        "    if conv_first:\n",
        "        x = conv(x)\n",
        "        if batch_normalization:\n",
        "            x = BatchNormalization()(x)\n",
        "        if activation is not None:\n",
        "            x = Activation(activation)(x)\n",
        "    else:\n",
        "        if batch_normalization:\n",
        "            x = BatchNormalization()(x)\n",
        "        if activation is not None:\n",
        "            x = Activation(activation)(x)\n",
        "        x = conv(x)\n",
        "    return x"
      ],
      "execution_count": 0,
      "outputs": []
    },
    {
      "cell_type": "code",
      "metadata": {
        "id": "9gug7Gs5jrdC",
        "colab_type": "code",
        "colab": {
          "base_uri": "https://localhost:8080/",
          "height": 34
        },
        "outputId": "16426acb-d26e-49d3-fbeb-b9aaa1e68aa0"
      },
      "source": [
        "from sklearn.model_selection import train_test_split\n",
        "train_df, val_df = train_test_split(one_hot_df, test_size=0.15, random_state=42)\n",
        "train_df = train_df.reset_index(drop=True)\n",
        "val_df = val_df.reset_index(drop=True)\n",
        "train_df.shape, val_df.shape"
      ],
      "execution_count": 16,
      "outputs": [
        {
          "output_type": "execute_result",
          "data": {
            "text/plain": [
              "((11537, 28), (2036, 28))"
            ]
          },
          "metadata": {
            "tags": []
          },
          "execution_count": 16
        }
      ]
    },
    {
      "cell_type": "code",
      "metadata": {
        "id": "XX1Kmazdjvgh",
        "colab_type": "code",
        "colab": {}
      },
      "source": [
        "train_images = [cv2.imread(train_df[\"image_path\"].iloc[x]) for x in range(len(train_df))]\n",
        "train_images = np.stack(train_images)\n",
        "labels = train_df[_gender_cols_].values"
      ],
      "execution_count": 0,
      "outputs": []
    },
    {
      "cell_type": "code",
      "metadata": {
        "id": "eWbO3KbPj0C1",
        "colab_type": "code",
        "colab": {
          "base_uri": "https://localhost:8080/",
          "height": 34
        },
        "outputId": "f06ac064-f5e6-49fc-8c05-4bb71a5bc3d2"
      },
      "source": [
        "train_images.shape"
      ],
      "execution_count": 18,
      "outputs": [
        {
          "output_type": "execute_result",
          "data": {
            "text/plain": [
              "(11537, 224, 224, 3)"
            ]
          },
          "metadata": {
            "tags": []
          },
          "execution_count": 18
        }
      ]
    },
    {
      "cell_type": "code",
      "metadata": {
        "id": "NKewCEZyj3F6",
        "colab_type": "code",
        "colab": {
          "base_uri": "https://localhost:8080/",
          "height": 34
        },
        "outputId": "5f4f1464-4535-40ea-d748-40050167ba03"
      },
      "source": [
        "labels.shape"
      ],
      "execution_count": 19,
      "outputs": [
        {
          "output_type": "execute_result",
          "data": {
            "text/plain": [
              "(11537, 2)"
            ]
          },
          "metadata": {
            "tags": []
          },
          "execution_count": 19
        }
      ]
    },
    {
      "cell_type": "code",
      "metadata": {
        "id": "gOUi0gunj58d",
        "colab_type": "code",
        "colab": {}
      },
      "source": [
        "# train_mean = np.mean(train_images, axis=(0, 1, 2))/255.0\n",
        "train_mean = np.array([0.16198463, 0.1628683 , 0.18274376])\n",
        "# train_std = np.std(train_images, axis=(0, 1, 2))/255.0\n",
        "train_std = np.array([0.25078711, 0.25332862, 0.27367283])"
      ],
      "execution_count": 0,
      "outputs": []
    },
    {
      "cell_type": "code",
      "metadata": {
        "id": "6ksph58yj9MU",
        "colab_type": "code",
        "colab": {}
      },
      "source": [
        "# Training parameters\n",
        "n = 2 #(number of resnet blocks)\n",
        "depth = n*9+2\n",
        "\n",
        "# Input image dimensions.\n",
        "input_shape = (224, 224, 3)"
      ],
      "execution_count": 0,
      "outputs": []
    },
    {
      "cell_type": "code",
      "metadata": {
        "id": "yw-njUbPkBfX",
        "colab_type": "code",
        "colab": {
          "base_uri": "https://localhost:8080/",
          "height": 1000
        },
        "outputId": "93dc1d55-6489-4cd1-e88e-be038747d61a"
      },
      "source": [
        "\"\"\"ResNet v20\n",
        "\n",
        "Stacks of (1 x 1)-(3 x 3)-(1 x 1) BN-ReLU-Conv2D or also known as\n",
        "bottleneck layer\n",
        "First shortcut connection per layer is 1 x 1 Conv2D.\n",
        "Second and onwards shortcut connection is identity.\n",
        "At the beginning of each stage, the feature map size is halved (downsampled)\n",
        "by a convolutional layer with strides=2, while the number of filter maps is\n",
        "doubled. Within each stage, the layers have the same number filters and the\n",
        "same filter map sizes.\n",
        "Features maps sizes:\n",
        "224x224x3\n",
        "conv - 222x222\n",
        "maxpool - 111x111\n",
        "reslayer - 111x111\n",
        "Stage 0 - 111x111x64\n",
        "Stage 1 - 56x56x128\n",
        "Stage 3 - 28x28x256\n",
        "1d conv - 28x28x128\n",
        "maxpool - 14x14x128\n",
        "separable conv2d - 12x12x160\n",
        "separable conv2d - 10x10x192\n",
        "conv2d - 8x8x208\n",
        "conv2d - 6x6x224\n",
        "conv2d - 4x4x240\n",
        "\n",
        "\"\"\"\n",
        "# Start model definition.\n",
        "num_filters_in = 16\n",
        "num_res_blocks = n\n",
        "\n",
        "inputs = Input(shape=input_shape)   # size 224x224\n",
        "\n",
        "# x = MaxPool2D(pool_size=(2,2))(inputs)   # output 112x112\n",
        "\n",
        "x = Conv2D(16,\n",
        "          kernel_size=(3,3),\n",
        "          kernel_initializer='he_normal',\n",
        "          kernel_regularizer=l2(1e-4),\n",
        "          activation='relu')(inputs)  # output 110x110\n",
        "                                 # output 222x222\n",
        "x = MaxPool2D(pool_size=(2,2))(x)   # output 55x55\n",
        "                                    # output 111x111\n",
        "\n",
        "\n",
        "# v2 performs Conv2D with BN-ReLU on input before splitting into 2 paths\n",
        "x = resnet_layer(inputs=x,\n",
        "                num_filters=num_filters_in,\n",
        "                conv_first=True)  # output of 54x54\n",
        "                                  # output 111x111\n",
        "# 3 stages - each stage has n residual blocks (each residual block has 3 convolution sets, the first one compresses except in the first stage)\n",
        "# Instantiate the stack of residual units\n",
        "for stage in range(3):\n",
        "    for res_block in range(num_res_blocks):\n",
        "        activation = 'relu'\n",
        "        batch_normalization = True\n",
        "        strides = 1\n",
        "        if stage == 0:\n",
        "            num_filters_out = num_filters_in * 4\n",
        "            if res_block == 0:  # first layer and first stage\n",
        "                activation = None\n",
        "                batch_normalization = False\n",
        "        else:\n",
        "            num_filters_out = num_filters_in * 2\n",
        "            if res_block == 0:  # first layer but not first stage\n",
        "                strides = 2    # downsample\n",
        "        # bottleneck residual unit\n",
        "        y = resnet_layer(inputs=x,\n",
        "                          num_filters=num_filters_in,\n",
        "                          kernel_size=1,\n",
        "                          strides=strides,\n",
        "                          activation=activation,\n",
        "                          batch_normalization=batch_normalization,\n",
        "                          conv_first=False)\n",
        "        # y = Dropout(0.2)(y)\n",
        "        y = resnet_layer(inputs=y,\n",
        "                          num_filters=num_filters_in,\n",
        "                          conv_first=False)\n",
        "        y = resnet_layer(inputs=y,\n",
        "                          num_filters=num_filters_out,\n",
        "                          kernel_size=1,\n",
        "                          conv_first=False)\n",
        "        # y = Dropout(0.2)(y)\n",
        "\n",
        "        if res_block == 0:\n",
        "            # linear projection residual shortcut connection to match\n",
        "            # changed dims\n",
        "            x = resnet_layer(inputs=x,\n",
        "                              num_filters=num_filters_out,\n",
        "                              kernel_size=1,\n",
        "                              strides=strides,\n",
        "                              activation=None,\n",
        "                              batch_normalization=False)\n",
        "            x = keras.layers.add([x, y])\n",
        "\n",
        "    num_filters_in = num_filters_out\n",
        "# output from resnet layers of 14x14\n",
        "                              #  28x28\n",
        "x = Conv2D(128,\n",
        "           kernel_size=1)(x) # output of 14x14\n",
        "                                        #  28x28\n",
        "x = Dropout(0.2)(x)\n",
        "\n",
        "x = MaxPool2D(pool_size=(2,2))(x)  # output of 7x7\n",
        "                                   #  14x14\n",
        "\n",
        "x = SeparableConv2D(filters = 160, kernel_size=3, activation = 'relu')(x) #12x12\n",
        "\n",
        "x = SeparableConv2D(filters = 192, kernel_size=3, activation = 'relu')(x) #10x10\n",
        "\n",
        "x = Conv2D(208,\n",
        "           kernel_size=(3,3), activation='relu')(x)   # output of 8x8\n",
        "x = BatchNormalization()(x)\n",
        "x = Dropout(0.2)(x)\n",
        "\n",
        "x = Conv2D(224,\n",
        "           kernel_size=(3,3), activation='relu')(x)   # output of 6x6\n",
        "x = BatchNormalization()(x)\n",
        "x = Dropout(0.2)(x)\n",
        "x = Conv2D(240,\n",
        "           kernel_size=(3,3), activation='relu')(x)   # output of 4x4\n",
        "x = BatchNormalization()(x)\n",
        "\n",
        "x = GlobalAveragePooling2D()(x)\n",
        "\n",
        "output = Dense(2, activation=\"softmax\", name=\"gender_output\")(x)\n",
        "\n",
        "\n",
        "# define model\n",
        "model = Model(\n",
        "    inputs=inputs, \n",
        "    outputs=output\n",
        ")\n",
        "\n",
        "opt = SGD(lr=0.0005, momentum=0.9, nesterov=True)\n",
        "model.compile(\n",
        "    optimizer=opt,\n",
        "    loss=\"categorical_crossentropy\", \n",
        "    # loss_weights=loss_weights, \n",
        "    metrics=[\"accuracy\"]\n",
        ")\n",
        "\n",
        "model.summary()\n"
      ],
      "execution_count": 23,
      "outputs": [
        {
          "output_type": "stream",
          "text": [
            "WARNING:tensorflow:From /usr/local/lib/python3.6/dist-packages/keras/backend/tensorflow_backend.py:66: The name tf.get_default_graph is deprecated. Please use tf.compat.v1.get_default_graph instead.\n",
            "\n",
            "WARNING:tensorflow:From /usr/local/lib/python3.6/dist-packages/keras/backend/tensorflow_backend.py:541: The name tf.placeholder is deprecated. Please use tf.compat.v1.placeholder instead.\n",
            "\n",
            "WARNING:tensorflow:From /usr/local/lib/python3.6/dist-packages/keras/backend/tensorflow_backend.py:4479: The name tf.truncated_normal is deprecated. Please use tf.random.truncated_normal instead.\n",
            "\n",
            "WARNING:tensorflow:From /usr/local/lib/python3.6/dist-packages/keras/backend/tensorflow_backend.py:4267: The name tf.nn.max_pool is deprecated. Please use tf.nn.max_pool2d instead.\n",
            "\n",
            "WARNING:tensorflow:From /usr/local/lib/python3.6/dist-packages/keras/backend/tensorflow_backend.py:190: The name tf.get_default_session is deprecated. Please use tf.compat.v1.get_default_session instead.\n",
            "\n",
            "WARNING:tensorflow:From /usr/local/lib/python3.6/dist-packages/keras/backend/tensorflow_backend.py:197: The name tf.ConfigProto is deprecated. Please use tf.compat.v1.ConfigProto instead.\n",
            "\n",
            "WARNING:tensorflow:From /usr/local/lib/python3.6/dist-packages/keras/backend/tensorflow_backend.py:203: The name tf.Session is deprecated. Please use tf.compat.v1.Session instead.\n",
            "\n",
            "WARNING:tensorflow:From /usr/local/lib/python3.6/dist-packages/keras/backend/tensorflow_backend.py:207: The name tf.global_variables is deprecated. Please use tf.compat.v1.global_variables instead.\n",
            "\n",
            "WARNING:tensorflow:From /usr/local/lib/python3.6/dist-packages/keras/backend/tensorflow_backend.py:216: The name tf.is_variable_initialized is deprecated. Please use tf.compat.v1.is_variable_initialized instead.\n",
            "\n",
            "WARNING:tensorflow:From /usr/local/lib/python3.6/dist-packages/keras/backend/tensorflow_backend.py:223: The name tf.variables_initializer is deprecated. Please use tf.compat.v1.variables_initializer instead.\n",
            "\n",
            "WARNING:tensorflow:From /usr/local/lib/python3.6/dist-packages/keras/backend/tensorflow_backend.py:2041: The name tf.nn.fused_batch_norm is deprecated. Please use tf.compat.v1.nn.fused_batch_norm instead.\n",
            "\n",
            "WARNING:tensorflow:From /usr/local/lib/python3.6/dist-packages/keras/backend/tensorflow_backend.py:148: The name tf.placeholder_with_default is deprecated. Please use tf.compat.v1.placeholder_with_default instead.\n",
            "\n",
            "WARNING:tensorflow:From /usr/local/lib/python3.6/dist-packages/keras/backend/tensorflow_backend.py:4432: The name tf.random_uniform is deprecated. Please use tf.random.uniform instead.\n",
            "\n",
            "WARNING:tensorflow:From /usr/local/lib/python3.6/dist-packages/keras/backend/tensorflow_backend.py:3733: calling dropout (from tensorflow.python.ops.nn_ops) with keep_prob is deprecated and will be removed in a future version.\n",
            "Instructions for updating:\n",
            "Please use `rate` instead of `keep_prob`. Rate should be set to `rate = 1 - keep_prob`.\n",
            "WARNING:tensorflow:From /usr/local/lib/python3.6/dist-packages/keras/optimizers.py:793: The name tf.train.Optimizer is deprecated. Please use tf.compat.v1.train.Optimizer instead.\n",
            "\n",
            "WARNING:tensorflow:From /usr/local/lib/python3.6/dist-packages/keras/backend/tensorflow_backend.py:3576: The name tf.log is deprecated. Please use tf.math.log instead.\n",
            "\n",
            "Model: \"model_1\"\n",
            "__________________________________________________________________________________________________\n",
            "Layer (type)                    Output Shape         Param #     Connected to                     \n",
            "==================================================================================================\n",
            "input_1 (InputLayer)            (None, 224, 224, 3)  0                                            \n",
            "__________________________________________________________________________________________________\n",
            "conv2d_1 (Conv2D)               (None, 222, 222, 16) 448         input_1[0][0]                    \n",
            "__________________________________________________________________________________________________\n",
            "max_pooling2d_1 (MaxPooling2D)  (None, 111, 111, 16) 0           conv2d_1[0][0]                   \n",
            "__________________________________________________________________________________________________\n",
            "conv2d_2 (Conv2D)               (None, 111, 111, 16) 2320        max_pooling2d_1[0][0]            \n",
            "__________________________________________________________________________________________________\n",
            "batch_normalization_1 (BatchNor (None, 111, 111, 16) 64          conv2d_2[0][0]                   \n",
            "__________________________________________________________________________________________________\n",
            "activation_1 (Activation)       (None, 111, 111, 16) 0           batch_normalization_1[0][0]      \n",
            "__________________________________________________________________________________________________\n",
            "conv2d_3 (Conv2D)               (None, 111, 111, 16) 272         activation_1[0][0]               \n",
            "__________________________________________________________________________________________________\n",
            "batch_normalization_2 (BatchNor (None, 111, 111, 16) 64          conv2d_3[0][0]                   \n",
            "__________________________________________________________________________________________________\n",
            "activation_2 (Activation)       (None, 111, 111, 16) 0           batch_normalization_2[0][0]      \n",
            "__________________________________________________________________________________________________\n",
            "conv2d_4 (Conv2D)               (None, 111, 111, 16) 2320        activation_2[0][0]               \n",
            "__________________________________________________________________________________________________\n",
            "batch_normalization_3 (BatchNor (None, 111, 111, 16) 64          conv2d_4[0][0]                   \n",
            "__________________________________________________________________________________________________\n",
            "activation_3 (Activation)       (None, 111, 111, 16) 0           batch_normalization_3[0][0]      \n",
            "__________________________________________________________________________________________________\n",
            "conv2d_6 (Conv2D)               (None, 111, 111, 64) 1088        activation_1[0][0]               \n",
            "__________________________________________________________________________________________________\n",
            "conv2d_5 (Conv2D)               (None, 111, 111, 64) 1088        activation_3[0][0]               \n",
            "__________________________________________________________________________________________________\n",
            "add_1 (Add)                     (None, 111, 111, 64) 0           conv2d_6[0][0]                   \n",
            "                                                                 conv2d_5[0][0]                   \n",
            "__________________________________________________________________________________________________\n",
            "batch_normalization_7 (BatchNor (None, 111, 111, 64) 256         add_1[0][0]                      \n",
            "__________________________________________________________________________________________________\n",
            "activation_7 (Activation)       (None, 111, 111, 64) 0           batch_normalization_7[0][0]      \n",
            "__________________________________________________________________________________________________\n",
            "conv2d_10 (Conv2D)              (None, 56, 56, 64)   4160        activation_7[0][0]               \n",
            "__________________________________________________________________________________________________\n",
            "batch_normalization_8 (BatchNor (None, 56, 56, 64)   256         conv2d_10[0][0]                  \n",
            "__________________________________________________________________________________________________\n",
            "activation_8 (Activation)       (None, 56, 56, 64)   0           batch_normalization_8[0][0]      \n",
            "__________________________________________________________________________________________________\n",
            "conv2d_11 (Conv2D)              (None, 56, 56, 64)   36928       activation_8[0][0]               \n",
            "__________________________________________________________________________________________________\n",
            "batch_normalization_9 (BatchNor (None, 56, 56, 64)   256         conv2d_11[0][0]                  \n",
            "__________________________________________________________________________________________________\n",
            "activation_9 (Activation)       (None, 56, 56, 64)   0           batch_normalization_9[0][0]      \n",
            "__________________________________________________________________________________________________\n",
            "conv2d_13 (Conv2D)              (None, 56, 56, 128)  8320        add_1[0][0]                      \n",
            "__________________________________________________________________________________________________\n",
            "conv2d_12 (Conv2D)              (None, 56, 56, 128)  8320        activation_9[0][0]               \n",
            "__________________________________________________________________________________________________\n",
            "add_2 (Add)                     (None, 56, 56, 128)  0           conv2d_13[0][0]                  \n",
            "                                                                 conv2d_12[0][0]                  \n",
            "__________________________________________________________________________________________________\n",
            "batch_normalization_13 (BatchNo (None, 56, 56, 128)  512         add_2[0][0]                      \n",
            "__________________________________________________________________________________________________\n",
            "activation_13 (Activation)      (None, 56, 56, 128)  0           batch_normalization_13[0][0]     \n",
            "__________________________________________________________________________________________________\n",
            "conv2d_17 (Conv2D)              (None, 28, 28, 128)  16512       activation_13[0][0]              \n",
            "__________________________________________________________________________________________________\n",
            "batch_normalization_14 (BatchNo (None, 28, 28, 128)  512         conv2d_17[0][0]                  \n",
            "__________________________________________________________________________________________________\n",
            "activation_14 (Activation)      (None, 28, 28, 128)  0           batch_normalization_14[0][0]     \n",
            "__________________________________________________________________________________________________\n",
            "conv2d_18 (Conv2D)              (None, 28, 28, 128)  147584      activation_14[0][0]              \n",
            "__________________________________________________________________________________________________\n",
            "batch_normalization_15 (BatchNo (None, 28, 28, 128)  512         conv2d_18[0][0]                  \n",
            "__________________________________________________________________________________________________\n",
            "activation_15 (Activation)      (None, 28, 28, 128)  0           batch_normalization_15[0][0]     \n",
            "__________________________________________________________________________________________________\n",
            "conv2d_20 (Conv2D)              (None, 28, 28, 256)  33024       add_2[0][0]                      \n",
            "__________________________________________________________________________________________________\n",
            "conv2d_19 (Conv2D)              (None, 28, 28, 256)  33024       activation_15[0][0]              \n",
            "__________________________________________________________________________________________________\n",
            "add_3 (Add)                     (None, 28, 28, 256)  0           conv2d_20[0][0]                  \n",
            "                                                                 conv2d_19[0][0]                  \n",
            "__________________________________________________________________________________________________\n",
            "conv2d_24 (Conv2D)              (None, 28, 28, 128)  32896       add_3[0][0]                      \n",
            "__________________________________________________________________________________________________\n",
            "dropout_1 (Dropout)             (None, 28, 28, 128)  0           conv2d_24[0][0]                  \n",
            "__________________________________________________________________________________________________\n",
            "max_pooling2d_2 (MaxPooling2D)  (None, 14, 14, 128)  0           dropout_1[0][0]                  \n",
            "__________________________________________________________________________________________________\n",
            "separable_conv2d_1 (SeparableCo (None, 12, 12, 160)  21792       max_pooling2d_2[0][0]            \n",
            "__________________________________________________________________________________________________\n",
            "separable_conv2d_2 (SeparableCo (None, 10, 10, 192)  32352       separable_conv2d_1[0][0]         \n",
            "__________________________________________________________________________________________________\n",
            "conv2d_25 (Conv2D)              (None, 8, 8, 208)    359632      separable_conv2d_2[0][0]         \n",
            "__________________________________________________________________________________________________\n",
            "batch_normalization_19 (BatchNo (None, 8, 8, 208)    832         conv2d_25[0][0]                  \n",
            "__________________________________________________________________________________________________\n",
            "dropout_2 (Dropout)             (None, 8, 8, 208)    0           batch_normalization_19[0][0]     \n",
            "__________________________________________________________________________________________________\n",
            "conv2d_26 (Conv2D)              (None, 6, 6, 224)    419552      dropout_2[0][0]                  \n",
            "__________________________________________________________________________________________________\n",
            "batch_normalization_20 (BatchNo (None, 6, 6, 224)    896         conv2d_26[0][0]                  \n",
            "__________________________________________________________________________________________________\n",
            "dropout_3 (Dropout)             (None, 6, 6, 224)    0           batch_normalization_20[0][0]     \n",
            "__________________________________________________________________________________________________\n",
            "conv2d_27 (Conv2D)              (None, 4, 4, 240)    484080      dropout_3[0][0]                  \n",
            "__________________________________________________________________________________________________\n",
            "batch_normalization_21 (BatchNo (None, 4, 4, 240)    960         conv2d_27[0][0]                  \n",
            "__________________________________________________________________________________________________\n",
            "global_average_pooling2d_1 (Glo (None, 240)          0           batch_normalization_21[0][0]     \n",
            "__________________________________________________________________________________________________\n",
            "gender_output (Dense)           (None, 2)            482         global_average_pooling2d_1[0][0] \n",
            "==================================================================================================\n",
            "Total params: 1,651,378\n",
            "Trainable params: 1,648,786\n",
            "Non-trainable params: 2,592\n",
            "__________________________________________________________________________________________________\n"
          ],
          "name": "stdout"
        }
      ]
    },
    {
      "cell_type": "code",
      "metadata": {
        "id": "YHlOWXoWmnBH",
        "colab_type": "code",
        "colab": {}
      },
      "source": [
        "from keras.models import load_model\n",
        "model = load_model(\"/content/gdrive/My Drive/eip4_assignment5_modelweights/29dec_earlystart/eip4a5_model_res20.037.h5\")\n",
        "model.summary()"
      ],
      "execution_count": 0,
      "outputs": []
    },
    {
      "cell_type": "code",
      "metadata": {
        "id": "E1sPQTZpkpC_",
        "colab_type": "code",
        "colab": {}
      },
      "source": [
        "# set up training parameters\n",
        "training_batch_size=32\n",
        "epochs=30\n",
        "\n",
        "\n",
        "AUGMENTATIONS_TRAIN = Compose([\n",
        "    HorizontalFlip(p=0.5),\n",
        "    # Cutout(num_holes=1, max_h_size = int(input_shape[0]/5), max_w_size=int(input_shape[0]/5), p=1),\n",
        "    # Normalize(mean=tuple(train_mean), std=tuple(train_std), max_pixel_value=255.0, p=1),\n",
        "    Normalize(mean=(0, 0, 0), std=(1, 1, 1), max_pixel_value=255.0, p=1),\n",
        "    ShiftScaleRotate(\n",
        "        shift_limit=0.0625, scale_limit=0.1, \n",
        "        rotate_limit=15, border_mode=cv2.BORDER_REFLECT_101, p=0.3)\n",
        "])\n",
        "\n",
        "AUGMENTATIONS_VAL = Compose([\n",
        "    # CLAHE(p=1.0, clip_limit=2.0),\n",
        "    # Normalize(mean=tuple(train_mean), std=tuple(train_std), max_pixel_value=255.0, p=1.0)\n",
        "    # , \n",
        "    Normalize(mean=(0, 0, 0), std=(1, 1, 1), max_pixel_value=255.0, p=1)\n",
        "])"
      ],
      "execution_count": 0,
      "outputs": []
    },
    {
      "cell_type": "code",
      "metadata": {
        "id": "66kJ6mwNljX8",
        "colab_type": "code",
        "colab": {
          "base_uri": "https://localhost:8080/",
          "height": 195
        },
        "outputId": "24f0cbb1-338c-433a-9946-c5f9814215ab"
      },
      "source": [
        "# create train and validation data generators\n",
        "train_genr = PersonImageDataGenerator(train_df, batch_size=training_batch_size, shuffle=True, augment=AUGMENTATIONS_TRAIN)\n",
        "valid_genr = PersonImageDataGenerator(val_df, batch_size=64, shuffle=False, augment=AUGMENTATIONS_VAL)\n",
        "num_units = { k.split(\"_output\")[0]:v.shape[1] for k, v in targets.items()}"
      ],
      "execution_count": 26,
      "outputs": [
        {
          "output_type": "error",
          "ename": "NameError",
          "evalue": "ignored",
          "traceback": [
            "\u001b[0;31m---------------------------------------------------------------------------\u001b[0m",
            "\u001b[0;31mNameError\u001b[0m                                 Traceback (most recent call last)",
            "\u001b[0;32m<ipython-input-26-88412b1de2cf>\u001b[0m in \u001b[0;36m<module>\u001b[0;34m()\u001b[0m\n\u001b[1;32m      1\u001b[0m \u001b[0mtrain_genr\u001b[0m \u001b[0;34m=\u001b[0m \u001b[0mPersonImageDataGenerator\u001b[0m\u001b[0;34m(\u001b[0m\u001b[0mtrain_df\u001b[0m\u001b[0;34m,\u001b[0m \u001b[0mbatch_size\u001b[0m\u001b[0;34m=\u001b[0m\u001b[0mtraining_batch_size\u001b[0m\u001b[0;34m,\u001b[0m \u001b[0mshuffle\u001b[0m\u001b[0;34m=\u001b[0m\u001b[0;32mTrue\u001b[0m\u001b[0;34m,\u001b[0m \u001b[0maugment\u001b[0m\u001b[0;34m=\u001b[0m\u001b[0mAUGMENTATIONS_TRAIN\u001b[0m\u001b[0;34m)\u001b[0m\u001b[0;34m\u001b[0m\u001b[0;34m\u001b[0m\u001b[0m\n\u001b[1;32m      2\u001b[0m \u001b[0mvalid_genr\u001b[0m \u001b[0;34m=\u001b[0m \u001b[0mPersonImageDataGenerator\u001b[0m\u001b[0;34m(\u001b[0m\u001b[0mval_df\u001b[0m\u001b[0;34m,\u001b[0m \u001b[0mbatch_size\u001b[0m\u001b[0;34m=\u001b[0m\u001b[0;36m64\u001b[0m\u001b[0;34m,\u001b[0m \u001b[0mshuffle\u001b[0m\u001b[0;34m=\u001b[0m\u001b[0;32mFalse\u001b[0m\u001b[0;34m,\u001b[0m \u001b[0maugment\u001b[0m\u001b[0;34m=\u001b[0m\u001b[0mAUGMENTATIONS_VAL\u001b[0m\u001b[0;34m)\u001b[0m\u001b[0;34m\u001b[0m\u001b[0;34m\u001b[0m\u001b[0m\n\u001b[0;32m----> 3\u001b[0;31m \u001b[0mnum_units\u001b[0m \u001b[0;34m=\u001b[0m \u001b[0;34m{\u001b[0m \u001b[0mk\u001b[0m\u001b[0;34m.\u001b[0m\u001b[0msplit\u001b[0m\u001b[0;34m(\u001b[0m\u001b[0;34m\"_output\"\u001b[0m\u001b[0;34m)\u001b[0m\u001b[0;34m[\u001b[0m\u001b[0;36m0\u001b[0m\u001b[0;34m]\u001b[0m\u001b[0;34m:\u001b[0m\u001b[0mv\u001b[0m\u001b[0;34m.\u001b[0m\u001b[0mshape\u001b[0m\u001b[0;34m[\u001b[0m\u001b[0;36m1\u001b[0m\u001b[0;34m]\u001b[0m \u001b[0;32mfor\u001b[0m \u001b[0mk\u001b[0m\u001b[0;34m,\u001b[0m \u001b[0mv\u001b[0m \u001b[0;32min\u001b[0m \u001b[0mtargets\u001b[0m\u001b[0;34m.\u001b[0m\u001b[0mitems\u001b[0m\u001b[0;34m(\u001b[0m\u001b[0;34m)\u001b[0m\u001b[0;34m}\u001b[0m\u001b[0;34m\u001b[0m\u001b[0;34m\u001b[0m\u001b[0m\n\u001b[0m",
            "\u001b[0;31mNameError\u001b[0m: name 'targets' is not defined"
          ]
        }
      ]
    },
    {
      "cell_type": "code",
      "metadata": {
        "id": "fJyJXxMtmjRf",
        "colab_type": "code",
        "colab": {
          "base_uri": "https://localhost:8080/",
          "height": 510
        },
        "outputId": "fc5431f6-8c84-40df-9e39-cd6ba61e95be"
      },
      "source": [
        "# get number of output units from data\n",
        "images, targets = next(iter(train_genr))\n",
        "i=9\n",
        "cv2_imshow(images[i]*255)\n",
        "print(_gender_cols_)\n",
        "print(targets[\"gender_output\"][i])\n",
        "print(_imagequality_cols_)\n",
        "print(targets[\"image_quality_output\"][i])\n",
        "print(_age_cols_)\n",
        "print(targets[\"age_output\"][i])\n",
        "print(_weight_cols_)\n",
        "print(targets[\"weight_output\"][i])\n",
        "print(_carryingbag_cols_)\n",
        "print(targets[\"bag_output\"][i])\n",
        "print(_footwear_cols_)\n",
        "print(targets[\"footwear_output\"][i])\n",
        "print(_emotion_cols_)\n",
        "print(targets[\"emotion_output\"][i])\n",
        "print(_bodypose_cols_)\n",
        "print(targets[\"pose_output\"][i])"
      ],
      "execution_count": 29,
      "outputs": [
        {
          "output_type": "display_data",
          "data": {
            "image/png": "[encoded data removed]",
            "text/plain": [
              "<PIL.Image.Image image mode=RGB size=224x224 at 0x7FFA5892DBE0>"
            ]
          },
          "metadata": {
            "tags": []
          }
        },
        {
          "output_type": "stream",
          "text": [
            "['gender_female', 'gender_male']\n",
            "[1 0]\n",
            "['imagequality_Average', 'imagequality_Bad', 'imagequality_Good']\n",
            "[1 0 0]\n",
            "['age_15-25', 'age_25-35', 'age_35-45', 'age_45-55', 'age_55+']\n",
            "[0 1 0 0 0]\n",
            "['weight_normal-healthy', 'weight_over-weight', 'weight_slightly-overweight', 'weight_underweight']\n",
            "[1 0 0 0]\n",
            "['carryingbag_Daily/Office/Work Bag', 'carryingbag_Grocery/Home/Plastic Bag', 'carryingbag_None']\n",
            "[1 0 0]\n",
            "['footwear_CantSee', 'footwear_Fancy', 'footwear_Normal']\n",
            "[1 0 0]\n",
            "['emotion_Angry/Serious', 'emotion_Happy', 'emotion_Neutral', 'emotion_Sad']\n",
            "[1 0 0 0]\n",
            "['bodypose_Back', 'bodypose_Front-Frontish', 'bodypose_Side']\n",
            "[0 1 0]\n"
          ],
          "name": "stdout"
        }
      ]
    },
    {
      "cell_type": "code",
      "metadata": {
        "id": "KuN_-BqAn64l",
        "colab_type": "code",
        "colab": {}
      },
      "source": [
        "import keras_contrib\n",
        "from data_science_utils.vision.keras import LRFinder"
      ],
      "execution_count": 0,
      "outputs": []
    },
    {
      "cell_type": "code",
      "metadata": {
        "id": "iNuFPqRxoHLK",
        "colab_type": "code",
        "colab": {
          "base_uri": "https://localhost:8080/",
          "height": 154
        },
        "outputId": "6e7e3210-2a24-427c-d4a7-39f5d719ca6c"
      },
      "source": [
        "lrf = LRFinder(model)\n",
        "lrf.find_generator(train_genr, 0.0000001, 10, valid_genr, epochs=4)\n",
        "lrf.plot_loss()"
      ],
      "execution_count": 0,
      "outputs": [
        {
          "output_type": "stream",
          "text": [
            "WARNING:tensorflow:From /usr/local/lib/python3.6/dist-packages/tensorflow_core/python/ops/math_grad.py:1424: where (from tensorflow.python.ops.array_ops) is deprecated and will be removed in a future version.\n",
            "Instructions for updating:\n",
            "Use tf.where in 2.0, which has the same broadcast rule as np.where\n",
            "WARNING:tensorflow:From /usr/local/lib/python3.6/dist-packages/keras/backend/tensorflow_backend.py:1033: The name tf.assign_add is deprecated. Please use tf.compat.v1.assign_add instead.\n",
            "\n",
            "WARNING:tensorflow:From /usr/local/lib/python3.6/dist-packages/keras/backend/tensorflow_backend.py:1020: The name tf.assign is deprecated. Please use tf.compat.v1.assign instead.\n",
            "\n"
          ],
          "name": "stdout"
        }
      ]
    },
    {
      "cell_type": "code",
      "metadata": {
        "id": "BHkXIRQtoLpl",
        "colab_type": "code",
        "colab": {}
      },
      "source": [
        ""
      ],
      "execution_count": 0,
      "outputs": []
    }
  ]
}